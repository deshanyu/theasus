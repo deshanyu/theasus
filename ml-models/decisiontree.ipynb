{
 "cells": [
  {
   "cell_type": "code",
   "execution_count": 98,
   "metadata": {
    "collapsed": true
   },
   "outputs": [],
   "source": [
    "import pandas as pd\n",
    "import numpy as np\n",
    "%matplotlib inline \n",
    "import matplotlib.pyplot as plt"
   ]
  },
  {
   "cell_type": "code",
   "execution_count": 99,
   "metadata": {},
   "outputs": [
    {
     "data": {
      "text/html": [
       "<div>\n",
       "<style>\n",
       "    .dataframe thead tr:only-child th {\n",
       "        text-align: right;\n",
       "    }\n",
       "\n",
       "    .dataframe thead th {\n",
       "        text-align: left;\n",
       "    }\n",
       "\n",
       "    .dataframe tbody tr th {\n",
       "        vertical-align: top;\n",
       "    }\n",
       "</style>\n",
       "<table border=\"1\" class=\"dataframe\">\n",
       "  <thead>\n",
       "    <tr style=\"text-align: right;\">\n",
       "      <th></th>\n",
       "      <th>GENDER</th>\n",
       "      <th>SENIORCITIZEN</th>\n",
       "      <th>PARTNER</th>\n",
       "      <th>DEPENDENTS</th>\n",
       "      <th>TENURE</th>\n",
       "      <th>PHONESERVICE</th>\n",
       "      <th>PAPERLESSBILLING</th>\n",
       "      <th>MONTHLYCHARGES</th>\n",
       "      <th>TOTALCHARGES</th>\n",
       "      <th>MONTHLY_MINUTES_OF_USE</th>\n",
       "      <th>...</th>\n",
       "      <th>STREAMINGMOVIES_No</th>\n",
       "      <th>STREAMINGMOVIES_No internet service</th>\n",
       "      <th>STREAMINGMOVIES_Yes</th>\n",
       "      <th>CONTRACT_Month-to-month</th>\n",
       "      <th>CONTRACT_One year</th>\n",
       "      <th>CONTRACT_Two year</th>\n",
       "      <th>PAYMENTMETHOD_Bank transfer automatic</th>\n",
       "      <th>PAYMENTMETHOD_Credit card automatic</th>\n",
       "      <th>PAYMENTMETHOD_Electronic check</th>\n",
       "      <th>PAYMENTMETHOD_Mailed check</th>\n",
       "    </tr>\n",
       "  </thead>\n",
       "  <tbody>\n",
       "    <tr>\n",
       "      <th>0</th>\n",
       "      <td>0</td>\n",
       "      <td>0</td>\n",
       "      <td>1</td>\n",
       "      <td>0</td>\n",
       "      <td>1</td>\n",
       "      <td>0</td>\n",
       "      <td>1</td>\n",
       "      <td>29.85</td>\n",
       "      <td>29.85</td>\n",
       "      <td>0</td>\n",
       "      <td>...</td>\n",
       "      <td>1</td>\n",
       "      <td>0</td>\n",
       "      <td>0</td>\n",
       "      <td>1</td>\n",
       "      <td>0</td>\n",
       "      <td>0</td>\n",
       "      <td>0</td>\n",
       "      <td>0</td>\n",
       "      <td>1</td>\n",
       "      <td>0</td>\n",
       "    </tr>\n",
       "    <tr>\n",
       "      <th>1</th>\n",
       "      <td>1</td>\n",
       "      <td>0</td>\n",
       "      <td>0</td>\n",
       "      <td>0</td>\n",
       "      <td>45</td>\n",
       "      <td>0</td>\n",
       "      <td>0</td>\n",
       "      <td>42.30</td>\n",
       "      <td>1840.75</td>\n",
       "      <td>0</td>\n",
       "      <td>...</td>\n",
       "      <td>1</td>\n",
       "      <td>0</td>\n",
       "      <td>0</td>\n",
       "      <td>0</td>\n",
       "      <td>1</td>\n",
       "      <td>0</td>\n",
       "      <td>1</td>\n",
       "      <td>0</td>\n",
       "      <td>0</td>\n",
       "      <td>0</td>\n",
       "    </tr>\n",
       "    <tr>\n",
       "      <th>2</th>\n",
       "      <td>0</td>\n",
       "      <td>0</td>\n",
       "      <td>0</td>\n",
       "      <td>0</td>\n",
       "      <td>10</td>\n",
       "      <td>0</td>\n",
       "      <td>0</td>\n",
       "      <td>29.75</td>\n",
       "      <td>301.90</td>\n",
       "      <td>0</td>\n",
       "      <td>...</td>\n",
       "      <td>1</td>\n",
       "      <td>0</td>\n",
       "      <td>0</td>\n",
       "      <td>1</td>\n",
       "      <td>0</td>\n",
       "      <td>0</td>\n",
       "      <td>0</td>\n",
       "      <td>0</td>\n",
       "      <td>0</td>\n",
       "      <td>1</td>\n",
       "    </tr>\n",
       "    <tr>\n",
       "      <th>3</th>\n",
       "      <td>1</td>\n",
       "      <td>1</td>\n",
       "      <td>0</td>\n",
       "      <td>0</td>\n",
       "      <td>1</td>\n",
       "      <td>0</td>\n",
       "      <td>1</td>\n",
       "      <td>39.65</td>\n",
       "      <td>39.65</td>\n",
       "      <td>0</td>\n",
       "      <td>...</td>\n",
       "      <td>0</td>\n",
       "      <td>0</td>\n",
       "      <td>1</td>\n",
       "      <td>1</td>\n",
       "      <td>0</td>\n",
       "      <td>0</td>\n",
       "      <td>0</td>\n",
       "      <td>0</td>\n",
       "      <td>1</td>\n",
       "      <td>0</td>\n",
       "    </tr>\n",
       "    <tr>\n",
       "      <th>4</th>\n",
       "      <td>1</td>\n",
       "      <td>0</td>\n",
       "      <td>1</td>\n",
       "      <td>1</td>\n",
       "      <td>1</td>\n",
       "      <td>0</td>\n",
       "      <td>0</td>\n",
       "      <td>30.20</td>\n",
       "      <td>30.20</td>\n",
       "      <td>0</td>\n",
       "      <td>...</td>\n",
       "      <td>1</td>\n",
       "      <td>0</td>\n",
       "      <td>0</td>\n",
       "      <td>1</td>\n",
       "      <td>0</td>\n",
       "      <td>0</td>\n",
       "      <td>0</td>\n",
       "      <td>0</td>\n",
       "      <td>1</td>\n",
       "      <td>0</td>\n",
       "    </tr>\n",
       "  </tbody>\n",
       "</table>\n",
       "<p>5 rows × 45 columns</p>\n",
       "</div>"
      ],
      "text/plain": [
       "   GENDER  SENIORCITIZEN  PARTNER  DEPENDENTS  TENURE  PHONESERVICE  \\\n",
       "0       0              0        1           0       1             0   \n",
       "1       1              0        0           0      45             0   \n",
       "2       0              0        0           0      10             0   \n",
       "3       1              1        0           0       1             0   \n",
       "4       1              0        1           1       1             0   \n",
       "\n",
       "   PAPERLESSBILLING  MONTHLYCHARGES  TOTALCHARGES  MONTHLY_MINUTES_OF_USE  \\\n",
       "0                 1           29.85         29.85                       0   \n",
       "1                 0           42.30       1840.75                       0   \n",
       "2                 0           29.75        301.90                       0   \n",
       "3                 1           39.65         39.65                       0   \n",
       "4                 0           30.20         30.20                       0   \n",
       "\n",
       "              ...              STREAMINGMOVIES_No  \\\n",
       "0             ...                               1   \n",
       "1             ...                               1   \n",
       "2             ...                               1   \n",
       "3             ...                               0   \n",
       "4             ...                               1   \n",
       "\n",
       "   STREAMINGMOVIES_No internet service  STREAMINGMOVIES_Yes  \\\n",
       "0                                    0                    0   \n",
       "1                                    0                    0   \n",
       "2                                    0                    0   \n",
       "3                                    0                    1   \n",
       "4                                    0                    0   \n",
       "\n",
       "   CONTRACT_Month-to-month  CONTRACT_One year  CONTRACT_Two year  \\\n",
       "0                        1                  0                  0   \n",
       "1                        0                  1                  0   \n",
       "2                        1                  0                  0   \n",
       "3                        1                  0                  0   \n",
       "4                        1                  0                  0   \n",
       "\n",
       "   PAYMENTMETHOD_Bank transfer automatic  PAYMENTMETHOD_Credit card automatic  \\\n",
       "0                                      0                                    0   \n",
       "1                                      1                                    0   \n",
       "2                                      0                                    0   \n",
       "3                                      0                                    0   \n",
       "4                                      0                                    0   \n",
       "\n",
       "   PAYMENTMETHOD_Electronic check  PAYMENTMETHOD_Mailed check  \n",
       "0                               1                           0  \n",
       "1                               0                           0  \n",
       "2                               0                           1  \n",
       "3                               1                           0  \n",
       "4                               1                           0  \n",
       "\n",
       "[5 rows x 45 columns]"
      ]
     },
     "execution_count": 99,
     "metadata": {},
     "output_type": "execute_result"
    }
   ],
   "source": [
    "#df=pd.read_csv(\"../moreCleanData.csv\")\n",
    "df=pd.read_csv(\"clean_csv\", index_col=0)\n",
    "#df=df.drop_duplicates()\n",
    "df.head()"
   ]
  },
  {
   "cell_type": "code",
   "execution_count": 100,
   "metadata": {},
   "outputs": [
    {
     "data": {
      "text/plain": [
       "Index(['GENDER', 'SENIORCITIZEN', 'PARTNER', 'DEPENDENTS', 'TENURE',\n",
       "       'PHONESERVICE', 'PAPERLESSBILLING', 'MONTHLYCHARGES', 'TOTALCHARGES',\n",
       "       'MONTHLY_MINUTES_OF_USE', 'TOTAL_MINUTES_OF_USE', 'MONTHLY_SMS',\n",
       "       'TOTAL_SMS', 'MULTIPLELINES_No', 'MULTIPLELINES_No phone service',\n",
       "       'MULTIPLELINES_Yes', 'INTERNETSERVICE_DSL',\n",
       "       'INTERNETSERVICE_Fiber optic', 'INTERNETSERVICE_No',\n",
       "       'ONLINESECURITY_No', 'ONLINESECURITY_No internet service',\n",
       "       'ONLINESECURITY_Yes', 'ONLINEBACKUP_No',\n",
       "       'ONLINEBACKUP_No internet service', 'ONLINEBACKUP_Yes',\n",
       "       'DEVICEPROTECTION_No', 'DEVICEPROTECTION_No internet service',\n",
       "       'DEVICEPROTECTION_Yes', 'TECHSUPPORT_No',\n",
       "       'TECHSUPPORT_No internet service', 'TECHSUPPORT_Yes', 'STREAMINGTV_No',\n",
       "       'STREAMINGTV_No internet service', 'STREAMINGTV_Yes',\n",
       "       'STREAMINGMOVIES_No', 'STREAMINGMOVIES_No internet service',\n",
       "       'STREAMINGMOVIES_Yes', 'CONTRACT_Month-to-month', 'CONTRACT_One year',\n",
       "       'CONTRACT_Two year', 'PAYMENTMETHOD_Bank transfer automatic',\n",
       "       'PAYMENTMETHOD_Credit card automatic', 'PAYMENTMETHOD_Electronic check',\n",
       "       'PAYMENTMETHOD_Mailed check'],\n",
       "      dtype='object')"
      ]
     },
     "execution_count": 100,
     "metadata": {},
     "output_type": "execute_result"
    }
   ],
   "source": [
    "#Prepare target & features for modeling\n",
    "cols = df.columns\n",
    "train_cols = cols.drop([\"CHURN\"])\n",
    "features = df[train_cols]\n",
    "target = df[\"CHURN\"]\n",
    "train_cols"
   ]
  },
  {
   "cell_type": "markdown",
   "metadata": {},
   "source": [
    "## Decision tree"
   ]
  },
  {
   "cell_type": "code",
   "execution_count": 101,
   "metadata": {},
   "outputs": [],
   "source": [
    "from sklearn import tree\n",
    "from sklearn.model_selection import train_test_split\n",
    "X_train, X_test, y_train, y_test = train_test_split(features, target, random_state=1)\n",
    "clf = tree.DecisionTreeClassifier(class_weight=\"balanced\")\n",
    "clf = clf.fit(X_train, y_train)\n",
    "predictions = clf.predict(X_test)"
   ]
  },
  {
   "cell_type": "code",
   "execution_count": 102,
   "metadata": {},
   "outputs": [
    {
     "name": "stdout",
     "output_type": "stream",
     "text": [
      "Training Data Score: 1.0\n",
      "Testing Data Score: 0.7279954571266326\n"
     ]
    }
   ],
   "source": [
    "### BEGIN SOLUTION\n",
    "print(f\"Training Data Score: {clf.score(X_train, y_train)}\")\n",
    "print(f\"Testing Data Score: {clf.score(X_test, y_test)}\")\n",
    "### END SOLUTION"
   ]
  },
  {
   "cell_type": "code",
   "execution_count": 103,
   "metadata": {},
   "outputs": [
    {
     "name": "stdout",
     "output_type": "stream",
     "text": [
      "0.4988814317673378\n",
      "0.19406392694063926\n"
     ]
    }
   ],
   "source": [
    "# False positives.\n",
    "fp_filter = (predictions == 1) & (y_test == 0)\n",
    "fp = len(predictions[fp_filter])\n",
    "\n",
    "# True positives.\n",
    "tp_filter = (predictions == 1) & (y_test == 1)\n",
    "tp = len(predictions[tp_filter])\n",
    "\n",
    "# False negatives.\n",
    "fn_filter = (predictions == 0) & (y_test == 1)\n",
    "fn = len(predictions[fn_filter])\n",
    "\n",
    "# True negatives\n",
    "tn_filter = (predictions == 0) & (y_test == 0)\n",
    "tn = len(predictions[tn_filter])\n",
    "\n",
    "# Rates\n",
    "tpr = tp / (tp + fn)\n",
    "fpr = fp / (fp + tn)\n",
    "print(tpr)\n",
    "print(fpr)"
   ]
  },
  {
   "cell_type": "code",
   "execution_count": 104,
   "metadata": {},
   "outputs": [
    {
     "name": "stdout",
     "output_type": "stream",
     "text": [
      "First 10 Predictions:   [0, 0, 0, 0, 1, 0, 0, 1, 0, 0]\n",
      "First 10 Actual labels: [0, 0, 1, 0, 1, 0, 0, 0, 0, 1]\n",
      "Test Acc: 0.728\n",
      "auc: 0.6524087524133493\n",
      "             precision    recall  f1-score   support\n",
      "\n",
      "          1       0.83      0.81      0.82      1314\n",
      "          0       0.47      0.50      0.48       447\n",
      "\n",
      "avg / total       0.73      0.73      0.73      1761\n",
      "\n",
      "First 10 Predictions:   [0, 0, 0, 0, 1, 0, 0, 1, 0, 0]\n",
      "First 10 Actual labels: [0, 0, 1, 0, 1, 0, 0, 0, 0, 1]\n"
     ]
    }
   ],
   "source": [
    "### BEGIN SOLUTION\n",
    "print(f\"First 10 Predictions:   {predictions[:10].tolist()}\")\n",
    "print(f\"First 10 Actual labels: {y_test[:10].tolist()}\")\n",
    "### END SOLUTION\n",
    "# Model Accuracy\n",
    "print('Test Acc: %.3f' % clf.score(X_test, y_test))\n",
    "from sklearn.metrics import roc_curve, auc, roc_auc_score\n",
    "auc = roc_auc_score(y_test, predictions)\n",
    "print(f\"auc: {auc}\")\n",
    "# Calculate classification report\n",
    "target_names=['1','0']\n",
    "from sklearn.metrics import classification_report\n",
    "print(classification_report(y_test, predictions,\n",
    "                            target_names=target_names))"
   ]
  },
  {
   "cell_type": "markdown",
   "metadata": {},
   "source": [
    "## Random forest"
   ]
  },
  {
   "cell_type": "code",
   "execution_count": 105,
   "metadata": {},
   "outputs": [],
   "source": [
    "from sklearn.ensemble import RandomForestClassifier\n",
    "rf = RandomForestClassifier(n_estimators=200,class_weight=\"balanced\")\n",
    "rf = rf.fit(X_train, y_train)\n",
    "predictions = rf.predict(X_test)"
   ]
  },
  {
   "cell_type": "code",
   "execution_count": 106,
   "metadata": {},
   "outputs": [
    {
     "name": "stdout",
     "output_type": "stream",
     "text": [
      "Training Data Score: 1.0\n",
      "Testing Data Score: 0.8006814310051107\n"
     ]
    }
   ],
   "source": [
    "### BEGIN SOLUTION\n",
    "print(f\"Training Data Score: {rf.score(X_train, y_train)}\")\n",
    "print(f\"Testing Data Score: {rf.score(X_test, y_test)}\")\n",
    "### END SOLUTION"
   ]
  },
  {
   "cell_type": "code",
   "execution_count": 107,
   "metadata": {},
   "outputs": [
    {
     "name": "stdout",
     "output_type": "stream",
     "text": [
      "0.4854586129753915\n",
      "0.09208523592085235\n"
     ]
    }
   ],
   "source": [
    "# False positives.\n",
    "fp_filter = (predictions == 1) & (y_test == 0)\n",
    "fp = len(predictions[fp_filter])\n",
    "\n",
    "# True positives.\n",
    "tp_filter = (predictions == 1) & (y_test == 1)\n",
    "tp = len(predictions[tp_filter])\n",
    "\n",
    "# False negatives.\n",
    "fn_filter = (predictions == 0) & (y_test == 1)\n",
    "fn = len(predictions[fn_filter])\n",
    "\n",
    "# True negatives\n",
    "tn_filter = (predictions == 0) & (y_test == 0)\n",
    "tn = len(predictions[tn_filter])\n",
    "\n",
    "# Rates\n",
    "tpr = tp / (tp + fn)\n",
    "fpr = fp / (fp + tn)\n",
    "print(tpr)\n",
    "print(fpr)"
   ]
  },
  {
   "cell_type": "code",
   "execution_count": 108,
   "metadata": {},
   "outputs": [
    {
     "name": "stdout",
     "output_type": "stream",
     "text": [
      "First 10 Predictions:   [0, 0, 0, 0, 1, 0, 0, 1, 0, 1]\n",
      "First 10 Actual labels: [0, 0, 1, 0, 1, 0, 0, 0, 0, 1]\n",
      "Test Acc: 0.801\n",
      "auc: 0.6966866885272696\n",
      "             precision    recall  f1-score   support\n",
      "\n",
      "          1       0.84      0.91      0.87      1314\n",
      "          0       0.64      0.49      0.55       447\n",
      "\n",
      "avg / total       0.79      0.80      0.79      1761\n",
      "\n"
     ]
    }
   ],
   "source": [
    "### BEGIN SOLUTION\n",
    "print(f\"First 10 Predictions:   {predictions[:10].tolist()}\")\n",
    "print(f\"First 10 Actual labels: {y_test[:10].tolist()}\")\n",
    "### END SOLUTION\n",
    "# Model Accuracy\n",
    "print('Test Acc: %.3f' % rf.score(X_test, y_test))\n",
    "from sklearn.metrics import roc_curve, auc, roc_auc_score\n",
    "auc = roc_auc_score(y_test, predictions)\n",
    "print(f\"auc: {auc}\")\n",
    "# Calculate classification report\n",
    "target_names=['1','0']\n",
    "from sklearn.metrics import classification_report\n",
    "print(classification_report(y_test, predictions,\n",
    "                            target_names=target_names))"
   ]
  }
 ],
 "metadata": {
  "kernelspec": {
   "display_name": "Python [conda env:PythonData]",
   "language": "python",
   "name": "conda-env-PythonData-py"
  },
  "language_info": {
   "codemirror_mode": {
    "name": "ipython",
    "version": 3
   },
   "file_extension": ".py",
   "mimetype": "text/x-python",
   "name": "python",
   "nbconvert_exporter": "python",
   "pygments_lexer": "ipython3",
   "version": "3.6.1"
  }
 },
 "nbformat": 4,
 "nbformat_minor": 2
}
