{
 "cells": [
  {
   "cell_type": "markdown",
   "metadata": {},
   "source": [
    "## Data cleaning and feature engineering"
   ]
  },
  {
   "cell_type": "code",
   "execution_count": 50,
   "metadata": {
    "collapsed": true
   },
   "outputs": [],
   "source": [
    "import pandas as pd\n",
    "import numpy as np\n",
    "%matplotlib inline \n",
    "import matplotlib.pyplot as plt"
   ]
  },
  {
   "cell_type": "code",
   "execution_count": 51,
   "metadata": {},
   "outputs": [
    {
     "data": {
      "text/html": [
       "<div>\n",
       "<style>\n",
       "    .dataframe thead tr:only-child th {\n",
       "        text-align: right;\n",
       "    }\n",
       "\n",
       "    .dataframe thead th {\n",
       "        text-align: left;\n",
       "    }\n",
       "\n",
       "    .dataframe tbody tr th {\n",
       "        vertical-align: top;\n",
       "    }\n",
       "</style>\n",
       "<table border=\"1\" class=\"dataframe\">\n",
       "  <thead>\n",
       "    <tr style=\"text-align: right;\">\n",
       "      <th></th>\n",
       "      <th>GENDER</th>\n",
       "      <th>SENIORCITIZEN</th>\n",
       "      <th>PARTNER</th>\n",
       "      <th>DEPENDENTS</th>\n",
       "      <th>TENURE</th>\n",
       "      <th>PHONESERVICE</th>\n",
       "      <th>PAPERLESSBILLING</th>\n",
       "      <th>MONTHLYCHARGES</th>\n",
       "      <th>TOTALCHARGES</th>\n",
       "      <th>MONTHLY_MINUTES_OF_USE</th>\n",
       "      <th>...</th>\n",
       "      <th>STREAMINGMOVIES_No</th>\n",
       "      <th>STREAMINGMOVIES_No internet service</th>\n",
       "      <th>STREAMINGMOVIES_Yes</th>\n",
       "      <th>CONTRACT_Month-to-month</th>\n",
       "      <th>CONTRACT_One year</th>\n",
       "      <th>CONTRACT_Two year</th>\n",
       "      <th>PAYMENTMETHOD_Bank transfer automatic</th>\n",
       "      <th>PAYMENTMETHOD_Credit card automatic</th>\n",
       "      <th>PAYMENTMETHOD_Electronic check</th>\n",
       "      <th>PAYMENTMETHOD_Mailed check</th>\n",
       "    </tr>\n",
       "  </thead>\n",
       "  <tbody>\n",
       "    <tr>\n",
       "      <th>0</th>\n",
       "      <td>0</td>\n",
       "      <td>0</td>\n",
       "      <td>1</td>\n",
       "      <td>0</td>\n",
       "      <td>1</td>\n",
       "      <td>0</td>\n",
       "      <td>1</td>\n",
       "      <td>29.85</td>\n",
       "      <td>29.85</td>\n",
       "      <td>0</td>\n",
       "      <td>...</td>\n",
       "      <td>1</td>\n",
       "      <td>0</td>\n",
       "      <td>0</td>\n",
       "      <td>1</td>\n",
       "      <td>0</td>\n",
       "      <td>0</td>\n",
       "      <td>0</td>\n",
       "      <td>0</td>\n",
       "      <td>1</td>\n",
       "      <td>0</td>\n",
       "    </tr>\n",
       "    <tr>\n",
       "      <th>1</th>\n",
       "      <td>1</td>\n",
       "      <td>0</td>\n",
       "      <td>0</td>\n",
       "      <td>0</td>\n",
       "      <td>45</td>\n",
       "      <td>0</td>\n",
       "      <td>0</td>\n",
       "      <td>42.30</td>\n",
       "      <td>1840.75</td>\n",
       "      <td>0</td>\n",
       "      <td>...</td>\n",
       "      <td>1</td>\n",
       "      <td>0</td>\n",
       "      <td>0</td>\n",
       "      <td>0</td>\n",
       "      <td>1</td>\n",
       "      <td>0</td>\n",
       "      <td>1</td>\n",
       "      <td>0</td>\n",
       "      <td>0</td>\n",
       "      <td>0</td>\n",
       "    </tr>\n",
       "    <tr>\n",
       "      <th>2</th>\n",
       "      <td>0</td>\n",
       "      <td>0</td>\n",
       "      <td>0</td>\n",
       "      <td>0</td>\n",
       "      <td>10</td>\n",
       "      <td>0</td>\n",
       "      <td>0</td>\n",
       "      <td>29.75</td>\n",
       "      <td>301.90</td>\n",
       "      <td>0</td>\n",
       "      <td>...</td>\n",
       "      <td>1</td>\n",
       "      <td>0</td>\n",
       "      <td>0</td>\n",
       "      <td>1</td>\n",
       "      <td>0</td>\n",
       "      <td>0</td>\n",
       "      <td>0</td>\n",
       "      <td>0</td>\n",
       "      <td>0</td>\n",
       "      <td>1</td>\n",
       "    </tr>\n",
       "    <tr>\n",
       "      <th>3</th>\n",
       "      <td>1</td>\n",
       "      <td>1</td>\n",
       "      <td>0</td>\n",
       "      <td>0</td>\n",
       "      <td>1</td>\n",
       "      <td>0</td>\n",
       "      <td>1</td>\n",
       "      <td>39.65</td>\n",
       "      <td>39.65</td>\n",
       "      <td>0</td>\n",
       "      <td>...</td>\n",
       "      <td>0</td>\n",
       "      <td>0</td>\n",
       "      <td>1</td>\n",
       "      <td>1</td>\n",
       "      <td>0</td>\n",
       "      <td>0</td>\n",
       "      <td>0</td>\n",
       "      <td>0</td>\n",
       "      <td>1</td>\n",
       "      <td>0</td>\n",
       "    </tr>\n",
       "    <tr>\n",
       "      <th>4</th>\n",
       "      <td>1</td>\n",
       "      <td>0</td>\n",
       "      <td>1</td>\n",
       "      <td>1</td>\n",
       "      <td>1</td>\n",
       "      <td>0</td>\n",
       "      <td>0</td>\n",
       "      <td>30.20</td>\n",
       "      <td>30.20</td>\n",
       "      <td>0</td>\n",
       "      <td>...</td>\n",
       "      <td>1</td>\n",
       "      <td>0</td>\n",
       "      <td>0</td>\n",
       "      <td>1</td>\n",
       "      <td>0</td>\n",
       "      <td>0</td>\n",
       "      <td>0</td>\n",
       "      <td>0</td>\n",
       "      <td>1</td>\n",
       "      <td>0</td>\n",
       "    </tr>\n",
       "  </tbody>\n",
       "</table>\n",
       "<p>5 rows × 45 columns</p>\n",
       "</div>"
      ],
      "text/plain": [
       "   GENDER  SENIORCITIZEN  PARTNER  DEPENDENTS  TENURE  PHONESERVICE  \\\n",
       "0       0              0        1           0       1             0   \n",
       "1       1              0        0           0      45             0   \n",
       "2       0              0        0           0      10             0   \n",
       "3       1              1        0           0       1             0   \n",
       "4       1              0        1           1       1             0   \n",
       "\n",
       "   PAPERLESSBILLING  MONTHLYCHARGES  TOTALCHARGES  MONTHLY_MINUTES_OF_USE  \\\n",
       "0                 1           29.85         29.85                       0   \n",
       "1                 0           42.30       1840.75                       0   \n",
       "2                 0           29.75        301.90                       0   \n",
       "3                 1           39.65         39.65                       0   \n",
       "4                 0           30.20         30.20                       0   \n",
       "\n",
       "              ...              STREAMINGMOVIES_No  \\\n",
       "0             ...                               1   \n",
       "1             ...                               1   \n",
       "2             ...                               1   \n",
       "3             ...                               0   \n",
       "4             ...                               1   \n",
       "\n",
       "   STREAMINGMOVIES_No internet service  STREAMINGMOVIES_Yes  \\\n",
       "0                                    0                    0   \n",
       "1                                    0                    0   \n",
       "2                                    0                    0   \n",
       "3                                    0                    1   \n",
       "4                                    0                    0   \n",
       "\n",
       "   CONTRACT_Month-to-month  CONTRACT_One year  CONTRACT_Two year  \\\n",
       "0                        1                  0                  0   \n",
       "1                        0                  1                  0   \n",
       "2                        1                  0                  0   \n",
       "3                        1                  0                  0   \n",
       "4                        1                  0                  0   \n",
       "\n",
       "   PAYMENTMETHOD_Bank transfer automatic  PAYMENTMETHOD_Credit card automatic  \\\n",
       "0                                      0                                    0   \n",
       "1                                      1                                    0   \n",
       "2                                      0                                    0   \n",
       "3                                      0                                    0   \n",
       "4                                      0                                    0   \n",
       "\n",
       "   PAYMENTMETHOD_Electronic check  PAYMENTMETHOD_Mailed check  \n",
       "0                               1                           0  \n",
       "1                               0                           0  \n",
       "2                               0                           1  \n",
       "3                               1                           0  \n",
       "4                               1                           0  \n",
       "\n",
       "[5 rows x 45 columns]"
      ]
     },
     "execution_count": 51,
     "metadata": {},
     "output_type": "execute_result"
    }
   ],
   "source": [
    "#df=pd.read_csv(\"../moreCleanData.csv\")\n",
    "df=pd.read_csv(\"clean_csv\", index_col=0)\n",
    "df.head()"
   ]
  },
  {
   "cell_type": "code",
   "execution_count": 54,
   "metadata": {},
   "outputs": [
    {
     "data": {
      "text/plain": [
       "Index(['GENDER', 'SENIORCITIZEN', 'PARTNER', 'DEPENDENTS', 'TENURE',\n",
       "       'PHONESERVICE', 'PAPERLESSBILLING', 'MONTHLYCHARGES', 'TOTALCHARGES',\n",
       "       'MONTHLY_MINUTES_OF_USE', 'TOTAL_MINUTES_OF_USE', 'MONTHLY_SMS',\n",
       "       'TOTAL_SMS', 'MULTIPLELINES_No', 'MULTIPLELINES_No phone service',\n",
       "       'MULTIPLELINES_Yes', 'INTERNETSERVICE_DSL',\n",
       "       'INTERNETSERVICE_Fiber optic', 'INTERNETSERVICE_No',\n",
       "       'ONLINESECURITY_No', 'ONLINESECURITY_No internet service',\n",
       "       'ONLINESECURITY_Yes', 'ONLINEBACKUP_No',\n",
       "       'ONLINEBACKUP_No internet service', 'ONLINEBACKUP_Yes',\n",
       "       'DEVICEPROTECTION_No', 'DEVICEPROTECTION_No internet service',\n",
       "       'DEVICEPROTECTION_Yes', 'TECHSUPPORT_No',\n",
       "       'TECHSUPPORT_No internet service', 'TECHSUPPORT_Yes', 'STREAMINGTV_No',\n",
       "       'STREAMINGTV_No internet service', 'STREAMINGTV_Yes',\n",
       "       'STREAMINGMOVIES_No', 'STREAMINGMOVIES_No internet service',\n",
       "       'STREAMINGMOVIES_Yes', 'CONTRACT_Month-to-month', 'CONTRACT_One year',\n",
       "       'CONTRACT_Two year', 'PAYMENTMETHOD_Bank transfer automatic',\n",
       "       'PAYMENTMETHOD_Credit card automatic', 'PAYMENTMETHOD_Electronic check',\n",
       "       'PAYMENTMETHOD_Mailed check'],\n",
       "      dtype='object')"
      ]
     },
     "execution_count": 54,
     "metadata": {},
     "output_type": "execute_result"
    }
   ],
   "source": [
    "#Prepare target & features for modeling\n",
    "cols = df.columns\n",
    "train_cols = cols.drop([\"CHURN\"])\n",
    "features = df[train_cols]\n",
    "target = df[\"CHURN\"]\n",
    "train_cols"
   ]
  },
  {
   "cell_type": "markdown",
   "metadata": {},
   "source": [
    "## Logistic regression"
   ]
  },
  {
   "cell_type": "code",
   "execution_count": 55,
   "metadata": {},
   "outputs": [
    {
     "name": "stdout",
     "output_type": "stream",
     "text": [
      "0.4724451578384163\n",
      "0.0995361422497101\n"
     ]
    }
   ],
   "source": [
    "from sklearn.linear_model import LogisticRegression\n",
    "lr = LogisticRegression()\n",
    "lr.fit(features, target)\n",
    "predictions = lr.predict(features)\n",
    "# False positives.\n",
    "fp_filter = (predictions == 1) & (target == 0)\n",
    "fp = len(predictions[fp_filter])\n",
    "\n",
    "# True positives.\n",
    "tp_filter = (predictions == 1) & (target == 1)\n",
    "tp = len(predictions[tp_filter])\n",
    "\n",
    "# False negatives.\n",
    "fn_filter = (predictions == 0) & (target == 1)\n",
    "fn = len(predictions[fn_filter])\n",
    "\n",
    "# True negatives\n",
    "tn_filter = (predictions == 0) & (target == 0)\n",
    "tn = len(predictions[tn_filter])\n",
    "\n",
    "# Rates\n",
    "tpr = tp / (tp + fn)\n",
    "fpr = fp / (fp + tn)\n",
    "print(tpr)\n",
    "print(fpr)"
   ]
  },
  {
   "cell_type": "markdown",
   "metadata": {},
   "source": [
    "## Logistic regression with k fold cross-validation"
   ]
  },
  {
   "cell_type": "code",
   "execution_count": 56,
   "metadata": {},
   "outputs": [
    {
     "name": "stdout",
     "output_type": "stream",
     "text": [
      "tpr: 0.7758159443552702\n",
      "fpr: 0.27870119829918827\n",
      "First 10 Predictions:   [1, 0, 0, 1, 1, 0, 0, 0, 0, 1, 0, 0, 0, 0, 0, 1, 0, 1, 1, 1]\n",
      "First 10 Actual labels: [0, 0, 0, 1, 1, 0, 0, 0, 0, 0, 0, 0, 0, 0, 1, 1, 1, 1, 1, 0]\n",
      "auc: 0.7485573730280409\n",
      "             precision    recall  f1-score   support\n",
      "\n",
      "          1       0.90      0.72      0.80      5174\n",
      "          0       0.50      0.78      0.61      1869\n",
      "\n",
      "avg / total       0.79      0.74      0.75      7043\n",
      "\n"
     ]
    }
   ],
   "source": [
    "# KFold cross-validation and balanced class-weight\n",
    "from sklearn.cross_validation import cross_val_predict, KFold\n",
    "lr = LogisticRegression(class_weight=\"balanced\")\n",
    "#lr.fit(features, target)\n",
    "kf = KFold(features.shape[0], random_state=1)\n",
    "predictions = cross_val_predict(lr, features, target, cv=kf)\n",
    "predictions = pd.Series(predictions)\n",
    "\n",
    "# False positives.\n",
    "fp_filter = (predictions == 1) & (target == 0)\n",
    "fp = len(predictions[fp_filter])\n",
    "\n",
    "# True positives.\n",
    "tp_filter = (predictions == 1) & (target == 1)\n",
    "tp = len(predictions[tp_filter])\n",
    "\n",
    "# False negatives.\n",
    "fn_filter = (predictions == 0) & (target == 1)\n",
    "fn = len(predictions[fn_filter])\n",
    "\n",
    "# True negatives\n",
    "tn_filter = (predictions == 0) & (target == 0)\n",
    "tn = len(predictions[tn_filter])\n",
    "\n",
    "# Rates\n",
    "tpr = tp / (tp + fn)\n",
    "fpr = fp / (fp + tn)\n",
    "print(f\"tpr: {tpr}\")\n",
    "print(f\"fpr: {fpr}\")\n",
    "#0.56,0.10;bal 0.79,0.27;\n",
    "### BEGIN SOLUTION\n",
    "print(f\"First 10 Predictions:   {predictions[:20].tolist()}\")\n",
    "print(f\"First 10 Actual labels: {target.values[:20].tolist()}\")\n",
    "### END SOLUTION\n",
    "# Model Accuracy\n",
    "#print('Test Acc: %.3f' % lr.score(features, target))\n",
    "\n",
    "from sklearn.metrics import roc_curve, auc, roc_auc_score\n",
    "auc = roc_auc_score(target, predictions)\n",
    "print(f\"auc: {auc}\")\n",
    "# Calculate classification report\n",
    "target_names=['1','0']\n",
    "from sklearn.metrics import classification_report\n",
    "print(classification_report(target, predictions,\n",
    "                            target_names=target_names))"
   ]
  },
  {
   "cell_type": "markdown",
   "metadata": {},
   "source": [
    "## Logistic regression with manually set penalty"
   ]
  },
  {
   "cell_type": "code",
   "execution_count": 57,
   "metadata": {},
   "outputs": [
    {
     "name": "stdout",
     "output_type": "stream",
     "text": [
      "0.7961476725521669\n",
      "0.2962891379976807\n",
      "First 10 Predictions:   [1, 0, 0, 1, 1, 0, 0, 0, 0, 1, 0, 0, 0, 0, 0, 1, 0, 1, 1, 1]\n",
      "First 10 Actual labels: [0, 0, 0, 1, 1, 0, 0, 0, 0, 0, 0, 0, 0, 0, 1, 1, 1, 1, 1, 0]\n"
     ]
    }
   ],
   "source": [
    "# Setting a penalty to the class-weight\n",
    "penalty=penalty = {\n",
    "    0: 1,\n",
    "    1: 3\n",
    "}\n",
    "\n",
    "lr = LogisticRegression(class_weight=penalty)\n",
    "kf = KFold(features.shape[0], random_state=1)\n",
    "predictions = cross_val_predict(lr, features, target, cv=kf)\n",
    "predictions = pd.Series(predictions)\n",
    "\n",
    "# False positives.\n",
    "fp_filter = (predictions == 1) & (target == 0)\n",
    "fp = len(predictions[fp_filter])\n",
    "\n",
    "# True positives.\n",
    "tp_filter = (predictions == 1) & (target == 1)\n",
    "tp = len(predictions[tp_filter])\n",
    "\n",
    "# False negatives.\n",
    "fn_filter = (predictions == 0) & (target == 1)\n",
    "fn = len(predictions[fn_filter])\n",
    "\n",
    "# True negatives\n",
    "tn_filter = (predictions == 0) & (target == 0)\n",
    "tn = len(predictions[tn_filter])\n",
    "\n",
    "# Rates\n",
    "tpr = tp / (tp + fn)\n",
    "fpr = fp / (fp + tn)\n",
    "print(tpr)\n",
    "print(fpr)\n",
    "### BEGIN SOLUTION\n",
    "print(f\"First 10 Predictions:   {predictions[:20].tolist()}\")\n",
    "print(f\"First 10 Actual labels: {target.values[:20].tolist()}\")\n",
    "### END SOLUTION\n",
    "#penalty (2:0.7153558052434457,0.2294163123308852),(3:0.7961476725521669,0.2962891379976807),(4:0.7758159443552702,0.30459992269037495)"
   ]
  },
  {
   "cell_type": "code",
   "execution_count": 60,
   "metadata": {},
   "outputs": [
    {
     "name": "stdout",
     "output_type": "stream",
     "text": [
      "0.8111289459604066\n",
      "0.3063393892539621\n",
      "First 10 Predictions:   [1, 0, 1, 1, 1, 0, 1, 1, 0, 1, 0, 0, 0, 0, 0, 1, 1, 1, 1, 1]\n",
      "First 10 Actual labels: [0, 0, 0, 1, 1, 0, 0, 0, 0, 0, 0, 0, 0, 0, 1, 1, 1, 1, 1, 0]\n",
      "auc: 0.7523947783532223\n",
      "             precision    recall  f1-score   support\n",
      "\n",
      "          1       0.91      0.69      0.79      5174\n",
      "          0       0.49      0.81      0.61      1869\n",
      "\n",
      "avg / total       0.80      0.72      0.74      7043\n",
      "\n"
     ]
    }
   ],
   "source": [
    "# Setting a penalty to the class-weight\n",
    "penalty=penalty = {\n",
    "    0: 1,\n",
    "    1: 3\n",
    "}\n",
    "\n",
    "lr = LogisticRegression(class_weight=penalty)\n",
    "kf = KFold(features.shape[0], random_state=1)\n",
    "predictions = cross_val_predict(lr, features, target, cv=kf)\n",
    "predictions = pd.Series(predictions)\n",
    "# False positives.\n",
    "fp_filter = (predictions == 1) & (target == 0)\n",
    "fp = len(predictions[fp_filter])\n",
    "\n",
    "# True positives.\n",
    "tp_filter = (predictions == 1) & (target == 1)\n",
    "tp = len(predictions[tp_filter])\n",
    "\n",
    "# False negatives.\n",
    "fn_filter = (predictions == 0) & (target == 1)\n",
    "fn = len(predictions[fn_filter])\n",
    "\n",
    "# True negatives\n",
    "tn_filter = (predictions == 0) & (target == 0)\n",
    "tn = len(predictions[tn_filter])\n",
    "\n",
    "# Rates\n",
    "tpr = tp / (tp + fn)\n",
    "fpr = fp / (fp + tn)\n",
    "print(tpr)\n",
    "print(fpr)\n",
    "### BEGIN SOLUTION\n",
    "print(f\"First 10 Predictions:   {predictions[:20].tolist()}\")\n",
    "print(f\"First 10 Actual labels: {target.values[:20].tolist()}\")\n",
    "# Model Accuracy\n",
    "#print('Test Acc: %.3f' % lr.score(features, target))\n",
    "\n",
    "from sklearn.metrics import roc_curve, auc, roc_auc_score\n",
    "\n",
    "auc = roc_auc_score(target, predictions)\n",
    "print(f\"auc: {auc}\")\n",
    "# Calculate classification report\n",
    "target_names=['1','0']\n",
    "from sklearn.metrics import classification_report\n",
    "print(classification_report(target, predictions,\n",
    "                            target_names=target_names))\n",
    "### END SOLUTION\n",
    "#'TOTALCHARGES'-:0.81,0.31,\n",
    "# 'MONTHLY_MINUTES_OF_USE'-:0.78,0.32,\n",
    "#'TOTAL_MINUTES_OF_USE'-:0.80,0.28\n",
    "# 'MONTHLY_SMS',0.8,0.28\n",
    "#'TOTAL_SMS', 0.8,0.27\n",
    "#'TENURE',0.81,0.31\n",
    "#important: contract,\n",
    "#0.88,0.43 auc 0.7282159"
   ]
  },
  {
   "cell_type": "markdown",
   "metadata": {},
   "source": [
    "## BC: Logistic regression"
   ]
  },
  {
   "cell_type": "code",
   "execution_count": 61,
   "metadata": {},
   "outputs": [
    {
     "name": "stdout",
     "output_type": "stream",
     "text": [
      "(7043, 38) (7043,)\n"
     ]
    }
   ],
   "source": [
    "# Assign X (features) and y (target)\n",
    "### BEGIN SOLUTION\n",
    "X = features\n",
    "y = target\n",
    "print(X.shape, y.shape)"
   ]
  },
  {
   "cell_type": "code",
   "execution_count": 62,
   "metadata": {
    "collapsed": true
   },
   "outputs": [],
   "source": [
    "### BEGIN SOLUTION\n",
    "from sklearn.model_selection import train_test_split\n",
    "X_train, X_test, y_train, y_test = train_test_split(X, y, random_state=1, stratify=y)\n",
    "### END SOLUTION"
   ]
  },
  {
   "cell_type": "code",
   "execution_count": 63,
   "metadata": {
    "collapsed": true
   },
   "outputs": [],
   "source": [
    "# Setting a penalty to the class-weight\n",
    "# penalty=penalty = {\n",
    "#     0: 1,\n",
    "#     1: 3\n",
    "# }"
   ]
  },
  {
   "cell_type": "code",
   "execution_count": 64,
   "metadata": {},
   "outputs": [
    {
     "data": {
      "text/plain": [
       "LogisticRegression(C=1.0, class_weight='balanced', dual=False,\n",
       "          fit_intercept=True, intercept_scaling=1, max_iter=100,\n",
       "          multi_class='ovr', n_jobs=1, penalty='l2', random_state=None,\n",
       "          solver='liblinear', tol=0.0001, verbose=0, warm_start=False)"
      ]
     },
     "execution_count": 64,
     "metadata": {},
     "output_type": "execute_result"
    }
   ],
   "source": [
    "### BEGIN SOLUTION\n",
    "from sklearn.linear_model import LogisticRegression\n",
    "classifier = LogisticRegression(class_weight=\"balanced\")\n",
    "classifier\n",
    "### END SOLUTION"
   ]
  },
  {
   "cell_type": "code",
   "execution_count": 65,
   "metadata": {},
   "outputs": [
    {
     "data": {
      "text/plain": [
       "LogisticRegression(C=1.0, class_weight='balanced', dual=False,\n",
       "          fit_intercept=True, intercept_scaling=1, max_iter=100,\n",
       "          multi_class='ovr', n_jobs=1, penalty='l2', random_state=None,\n",
       "          solver='liblinear', tol=0.0001, verbose=0, warm_start=False)"
      ]
     },
     "execution_count": 65,
     "metadata": {},
     "output_type": "execute_result"
    }
   ],
   "source": [
    "### BEGIN SOLUTION\n",
    "classifier.fit(X_train, y_train)\n",
    "### END SOLUTION"
   ]
  },
  {
   "cell_type": "code",
   "execution_count": 66,
   "metadata": {},
   "outputs": [
    {
     "name": "stdout",
     "output_type": "stream",
     "text": [
      "Training Data Score: 0.7298371828852708\n",
      "Testing Data Score: 0.7285633162975582\n"
     ]
    }
   ],
   "source": [
    "### BEGIN SOLUTION\n",
    "print(f\"Training Data Score: {classifier.score(X_train, y_train)}\")\n",
    "print(f\"Testing Data Score: {classifier.score(X_test, y_test)}\")\n",
    "### END SOLUTION"
   ]
  },
  {
   "cell_type": "code",
   "execution_count": 67,
   "metadata": {
    "collapsed": true
   },
   "outputs": [],
   "source": [
    "predictions = classifier.predict(X_test)"
   ]
  },
  {
   "cell_type": "code",
   "execution_count": 68,
   "metadata": {},
   "outputs": [
    {
     "name": "stdout",
     "output_type": "stream",
     "text": [
      "0.7837259100642399\n",
      "0.29134466769706335\n"
     ]
    }
   ],
   "source": [
    "# False positives.\n",
    "fp_filter = (predictions == 1) & (y_test == 0)\n",
    "fp = len(predictions[fp_filter])\n",
    "\n",
    "# True positives.\n",
    "tp_filter = (predictions == 1) & (y_test == 1)\n",
    "tp = len(predictions[tp_filter])\n",
    "\n",
    "# False negatives.\n",
    "fn_filter = (predictions == 0) & (y_test == 1)\n",
    "fn = len(predictions[fn_filter])\n",
    "\n",
    "# True negatives\n",
    "tn_filter = (predictions == 0) & (y_test == 0)\n",
    "tn = len(predictions[tn_filter])\n",
    "\n",
    "# Rates\n",
    "tpr = tp / (tp + fn)\n",
    "fpr = fp / (fp + tn)\n",
    "print(tpr)\n",
    "print(fpr)"
   ]
  },
  {
   "cell_type": "code",
   "execution_count": 69,
   "metadata": {},
   "outputs": [
    {
     "name": "stdout",
     "output_type": "stream",
     "text": [
      "First 10 Predictions:   [1, 1, 1, 1, 0, 0, 1, 1, 1, 1]\n",
      "First 10 Actual labels: [1, 0, 0, 1, 0, 0, 1, 0, 1, 1]\n",
      "Test Acc: 0.729\n",
      "auc: 0.7461906211835883\n",
      "             precision    recall  f1-score   support\n",
      "\n",
      "          1       0.90      0.71      0.79      1294\n",
      "          0       0.49      0.78      0.60       467\n",
      "\n",
      "avg / total       0.79      0.73      0.74      1761\n",
      "\n"
     ]
    }
   ],
   "source": [
    "### BEGIN SOLUTION\n",
    "print(f\"First 10 Predictions:   {predictions[:10].tolist()}\")\n",
    "print(f\"First 10 Actual labels: {y_test[:10].tolist()}\")\n",
    "### END SOLUTION\n",
    "# Model Accuracy\n",
    "print('Test Acc: %.3f' % classifier.score(X_test, y_test))\n",
    "from sklearn.metrics import roc_curve, auc, roc_auc_score\n",
    "auc = roc_auc_score(y_test, predictions)\n",
    "print(f\"auc: {auc}\")\n",
    "# Calculate classification report\n",
    "target_names=['1','0']\n",
    "from sklearn.metrics import classification_report\n",
    "print(classification_report(y_test, predictions,\n",
    "                            target_names=target_names))"
   ]
  },
  {
   "cell_type": "code",
   "execution_count": null,
   "metadata": {
    "collapsed": true
   },
   "outputs": [],
   "source": []
  }
 ],
 "metadata": {
  "kernelspec": {
   "display_name": "Python [conda env:PythonData]",
   "language": "python",
   "name": "conda-env-PythonData-py"
  },
  "language_info": {
   "codemirror_mode": {
    "name": "ipython",
    "version": 3
   },
   "file_extension": ".py",
   "mimetype": "text/x-python",
   "name": "python",
   "nbconvert_exporter": "python",
   "pygments_lexer": "ipython3",
   "version": "3.6.1"
  }
 },
 "nbformat": 4,
 "nbformat_minor": 2
}
